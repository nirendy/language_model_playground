{
 "cells": [
  {
   "cell_type": "code",
   "execution_count": 1,
   "id": "e9434c16-6074-428f-9170-d5824c33ee32",
   "metadata": {},
   "outputs": [],
   "source": [
    "class Inputs:\n",
    "    init_sentence: str = \"I enjoy walking with my cute dog\"\n",
    "    max_length: int = 50\n",
    "    num_beams: int = 5\n",
    "    early_stopping: bool = True\n",
    "    no_repeat_ngram_size: int = 2\n",
    "    num_return_sequences: int = 5"
   ]
  },
  {
   "cell_type": "code",
   "execution_count": 2,
   "id": "d0e0b4dc-fa16-476d-bfad-79995b50a779",
   "metadata": {},
   "outputs": [
    {
     "data": {
      "text/plain": [
       "['__annotations__',\n",
       " '__class__',\n",
       " '__delattr__',\n",
       " '__dict__',\n",
       " '__dir__',\n",
       " '__doc__',\n",
       " '__eq__',\n",
       " '__format__',\n",
       " '__ge__',\n",
       " '__getattribute__',\n",
       " '__gt__',\n",
       " '__hash__',\n",
       " '__init__',\n",
       " '__init_subclass__',\n",
       " '__le__',\n",
       " '__lt__',\n",
       " '__module__',\n",
       " '__ne__',\n",
       " '__new__',\n",
       " '__reduce__',\n",
       " '__reduce_ex__',\n",
       " '__repr__',\n",
       " '__setattr__',\n",
       " '__sizeof__',\n",
       " '__str__',\n",
       " '__subclasshook__',\n",
       " '__weakref__',\n",
       " 'early_stopping',\n",
       " 'init_sentence',\n",
       " 'max_length',\n",
       " 'no_repeat_ngram_size',\n",
       " 'num_beams',\n",
       " 'num_return_sequences']"
      ]
     },
     "execution_count": 2,
     "metadata": {},
     "output_type": "execute_result"
    }
   ],
   "source": [
    "dir(Inputs)"
   ]
  },
  {
   "cell_type": "code",
   "execution_count": 3,
   "id": "fd57f8d7-1c48-466c-a9d9-57016c79645d",
   "metadata": {},
   "outputs": [],
   "source": [
    "from typing import Tuple, get_type_hints\n"
   ]
  },
  {
   "cell_type": "code",
   "execution_count": 4,
   "id": "195cbdb3-22c3-4e16-8d93-b6d7da274680",
   "metadata": {},
   "outputs": [
    {
     "data": {
      "text/plain": [
       "{'init_sentence': str,\n",
       " 'max_length': int,\n",
       " 'num_beams': int,\n",
       " 'early_stopping': bool,\n",
       " 'no_repeat_ngram_size': int,\n",
       " 'num_return_sequences': int}"
      ]
     },
     "execution_count": 4,
     "metadata": {},
     "output_type": "execute_result"
    }
   ],
   "source": [
    "get_type_hints(Inputs)\n"
   ]
  },
  {
   "cell_type": "code",
   "execution_count": null,
   "id": "9488f343-73b6-451c-97ea-aadad19a2bf2",
   "metadata": {},
   "outputs": [],
   "source": []
  }
 ],
 "metadata": {
  "kernelspec": {
   "display_name": "Python 3 (ipykernel)",
   "language": "python",
   "name": "python3"
  },
  "language_info": {
   "codemirror_mode": {
    "name": "ipython",
    "version": 3
   },
   "file_extension": ".py",
   "mimetype": "text/x-python",
   "name": "python",
   "nbconvert_exporter": "python",
   "pygments_lexer": "ipython3",
   "version": "3.8.10"
  }
 },
 "nbformat": 4,
 "nbformat_minor": 5
}
