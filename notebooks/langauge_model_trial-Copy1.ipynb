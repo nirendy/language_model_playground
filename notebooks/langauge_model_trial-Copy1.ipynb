{
 "cells": [
  {
   "cell_type": "markdown",
   "id": "f04b6485-ff14-44b6-9f76-e2df2ffaf7ad",
   "metadata": {
    "tags": []
   },
   "source": [
    "# Setup"
   ]
  },
  {
   "cell_type": "markdown",
   "id": "8dd4912e-fe63-4f79-ad81-8f355363a695",
   "metadata": {
    "tags": []
   },
   "source": [
    "## Imports"
   ]
  },
  {
   "cell_type": "code",
   "execution_count": 10,
   "id": "a3def8f4-3f80-4e5a-b5cf-8e588a2b7c98",
   "metadata": {},
   "outputs": [
    {
     "data": {
      "text/plain": [
       "['/Library/Frameworks/Python.framework/Versions/3.6/lib/python36.zip',\n",
       " '/Library/Frameworks/Python.framework/Versions/3.6/lib/python3.6',\n",
       " '/Library/Frameworks/Python.framework/Versions/3.6/lib/python3.6/lib-dynload',\n",
       " '',\n",
       " '/Users/nirendy/school-repo/language_model_playground/venv/lib/python3.6/site-packages',\n",
       " '/Users/nirendy/school-repo/language_model_playground/venv/lib/python3.6/site-packages/IPython/extensions',\n",
       " '/Users/nirendy/.ipython',\n",
       " '/Users/nirendy/school-repo/language_model_playground']"
      ]
     },
     "execution_count": 10,
     "metadata": {},
     "output_type": "execute_result"
    }
   ],
   "source": [
    "import sys\n",
    "sys.path"
   ]
  },
  {
   "cell_type": "raw",
   "id": "d2823112-4057-4fbc-a2ec-74a509a688f9",
   "metadata": {},
   "source": [
    "sys.path.append('..')"
   ]
  },
  {
   "cell_type": "code",
   "execution_count": 11,
   "id": "51d58979-9e31-4aa1-bc57-4013da463b35",
   "metadata": {},
   "outputs": [],
   "source": [
    "sys.path.append('/Users/nirendy/school-repo/language_model_playground')"
   ]
  },
  {
   "cell_type": "code",
   "execution_count": 12,
   "id": "6e57fca7-2801-40c0-81c0-3c5e03e6bd9f",
   "metadata": {},
   "outputs": [],
   "source": [
    "from src.utils.logits import TokenizerDebugger"
   ]
  },
  {
   "cell_type": "code",
   "execution_count": 13,
   "id": "64c7c343-a113-4d3f-bf1f-db3c6caa53d3",
   "metadata": {},
   "outputs": [],
   "source": [
    "import torch"
   ]
  },
  {
   "cell_type": "code",
   "execution_count": 14,
   "id": "9ea55e56-4f62-4647-9171-4c5f56543324",
   "metadata": {},
   "outputs": [],
   "source": [
    "from transformers import AutoTokenizer, AutoModelForCausalLM"
   ]
  },
  {
   "cell_type": "code",
   "execution_count": 7,
   "id": "a9282f7e-82c1-40d5-b19d-323cddcaf728",
   "metadata": {},
   "outputs": [],
   "source": [
    "import pandas as pd"
   ]
  },
  {
   "cell_type": "code",
   "execution_count": 8,
   "id": "6e376ac6-26dc-4112-8f02-a17e63dfe3f7",
   "metadata": {},
   "outputs": [],
   "source": [
    "import functools"
   ]
  },
  {
   "cell_type": "code",
   "execution_count": 9,
   "id": "bfce3087-552a-477f-9594-4af56c33959a",
   "metadata": {},
   "outputs": [],
   "source": [
    "import itertools"
   ]
  },
  {
   "cell_type": "markdown",
   "id": "996c4c4b-6be4-482e-937b-c7f77b541bf3",
   "metadata": {},
   "source": [
    "## Init"
   ]
  },
  {
   "cell_type": "code",
   "execution_count": 16,
   "id": "418521ce-5b48-4cb6-96f8-8d4678236af6",
   "metadata": {},
   "outputs": [],
   "source": [
    "tokenizer = AutoTokenizer.from_pretrained(\"distilgpt2\")\n",
    "\n",
    "model = AutoModelForCausalLM.from_pretrained(\"distilgpt2\", pad_token_id=tokenizer.eos_token_id)"
   ]
  },
  {
   "cell_type": "code",
   "execution_count": 17,
   "id": "c8d0c973-e4f8-4d5c-a8de-8c6ba5bd636a",
   "metadata": {},
   "outputs": [],
   "source": [
    "# encode context the generation is conditioned on\n",
    "input_ids = tokenizer.encode('I enjoy walking with my cute dog', return_tensors='pt')"
   ]
  },
  {
   "cell_type": "markdown",
   "id": "7bade46b-3631-4f14-b150-ce55ecb6ca62",
   "metadata": {
    "tags": []
   },
   "source": [
    "# Training Models"
   ]
  },
  {
   "cell_type": "markdown",
   "id": "75b875d1-f84a-45b9-907c-4eb9e227d26e",
   "metadata": {
    "tags": []
   },
   "source": [
    "## Greedy"
   ]
  },
  {
   "cell_type": "code",
   "execution_count": 12,
   "id": "9360fcff-c8e6-4806-9cd0-be67a0fb4d2e",
   "metadata": {},
   "outputs": [
    {
     "name": "stdout",
     "output_type": "stream",
     "text": [
      "Output:\n",
      "----------------------------------------------------------------------------------------------------\n",
      "I enjoy walking with my cute dog. I love it. I love it. I love it. I love it. I love it. I love it. I love it. I love it. I love it. I love it. I love\n"
     ]
    }
   ],
   "source": [
    "# generate text until the output length (which includes the context length) reaches 50\n",
    "greedy_output = model.generate(input_ids, max_length=50)\n",
    "\n",
    "print(\"Output:\\n\" + 100 * '-')\n",
    "print(tokenizer.decode(greedy_output[0], skip_special_tokens=True))"
   ]
  },
  {
   "cell_type": "markdown",
   "id": "6cecc1a5-8642-4154-ad38-0f5ef2146ad1",
   "metadata": {
    "tags": []
   },
   "source": [
    "## Beam"
   ]
  },
  {
   "cell_type": "code",
   "execution_count": null,
   "id": "7eba39cb-277d-4ce1-bf97-3190b86a3c62",
   "metadata": {},
   "outputs": [],
   "source": [
    "beam_output = model.generate(\n",
    "    input_ids, \n",
    "    max_length=50, \n",
    "    num_beams=5, \n",
    "    early_stopping=True\n",
    ")\n",
    "\n",
    "print(\"Output:\\n\" + 100 * '-')\n",
    "print(tokenizer.decode(beam_output[0], skip_special_tokens=True))"
   ]
  },
  {
   "cell_type": "markdown",
   "id": "65bfbb78-0386-4832-aa2a-f9f0aa86b883",
   "metadata": {
    "tags": []
   },
   "source": [
    "## More sequences"
   ]
  },
  {
   "cell_type": "code",
   "execution_count": null,
   "id": "ac7f6d49-e5be-4bc3-8cbd-1a147aee1ab8",
   "metadata": {},
   "outputs": [],
   "source": [
    "# set return_num_sequences > 1\n",
    "beam_outputs = model.generate(\n",
    "    input_ids, \n",
    "    max_length=50, \n",
    "    num_beams=5, \n",
    "    no_repeat_ngram_size=2, \n",
    "    num_return_sequences=5, \n",
    "    early_stopping=True\n",
    ")\n",
    "# now we have 3 output sequences\n",
    "print(\"Output:\\n\")\n",
    "for i, beam_output in enumerate(beam_outputs):\n",
    "  print((f\"{'-'*45}{'{:^10}'}{'-'*45} \\n{'{}'}\\n\").format(i, tokenizer.decode(beam_output, skip_special_tokens=True)))\n"
   ]
  },
  {
   "cell_type": "markdown",
   "id": "797e2bef-6cb2-451c-81f0-f49568824881",
   "metadata": {
    "tags": []
   },
   "source": [
    "## Adding randomization"
   ]
  },
  {
   "cell_type": "code",
   "execution_count": null,
   "id": "db28461e-c6ab-4976-87a7-cef6e9fec890",
   "metadata": {},
   "outputs": [],
   "source": [
    "# set seed to creproduce results. Feel free to change the seed though to get different results\n",
    "torch.manual_seed(0)\n",
    "\n",
    "# activate sampling and deactivate top_k by setting top_k sampling to 0\n",
    "sample_output = model.generate(\n",
    "    input_ids, \n",
    "    do_sample=True, \n",
    "    max_length=50, \n",
    "    top_k=0\n",
    ")\n",
    "\n",
    "print(\"Output:\\n\" + 100 * '-')\n",
    "print(tokenizer.decode(sample_output[0], skip_special_tokens=True))"
   ]
  },
  {
   "cell_type": "markdown",
   "id": "fe14da56-881a-45c2-afb0-f8dd625ee2a5",
   "metadata": {
    "tags": []
   },
   "source": [
    "## Adding Tempature"
   ]
  },
  {
   "cell_type": "code",
   "execution_count": 66,
   "id": "b5947e37-e36e-40e5-b616-4cc813be2568",
   "metadata": {},
   "outputs": [
    {
     "data": {
      "text/plain": [
       "'/Users/nirendy/school-repo/language_model_playground/notebooks'"
      ]
     },
     "execution_count": 66,
     "metadata": {},
     "output_type": "execute_result"
    }
   ],
   "source": [
    "os.getcwd()"
   ]
  },
  {
   "cell_type": "code",
   "execution_count": 65,
   "id": "dc264e3f-9bc9-488e-a2db-47e938c1372a",
   "metadata": {},
   "outputs": [
    {
     "data": {
      "text/plain": [
       "''"
      ]
     },
     "execution_count": 65,
     "metadata": {},
     "output_type": "execute_result"
    }
   ],
   "source": [
    "import os\n",
    "os.path.dirname(os.path.realpath(__file__))"
   ]
  },
  {
   "cell_type": "code",
   "execution_count": 18,
   "id": "2b102f39-3ecf-44c4-b198-782224e147b9",
   "metadata": {},
   "outputs": [
    {
     "name": "stdout",
     "output_type": "stream",
     "text": [
      "Output:\n",
      "----------------------------------------------------------------------------------------------------\n",
      "I enjoy walking with my cute dog along the way.\n",
      "\n",
      "I was thinking about my dog the whole time.\n",
      "So, did I feel compelled to do that? I was just thinking about it.\n",
      "And he did it.\n"
     ]
    }
   ],
   "source": [
    "# set seed to reproduce results. Feel free to change the seed though to get different results\n",
    "torch.manual_seed(0)\n",
    "\n",
    "# use temperature to decrease the sensitivity to low probability candidates\n",
    "sample_output = model.generate(\n",
    "    input_ids, \n",
    "    do_sample=True, \n",
    "    max_length=50, \n",
    "    top_k=0, \n",
    "    temperature=0.7\n",
    ")\n",
    "\n",
    "print(\"Output:\\n\" + 100 * '-')\n",
    "print(tokenizer.decode(sample_output[0], skip_special_tokens=True))"
   ]
  },
  {
   "cell_type": "code",
   "execution_count": 19,
   "id": "e4fcb837-1b7d-42c4-a211-32ff03d682e7",
   "metadata": {},
   "outputs": [
    {
     "name": "stdout",
     "output_type": "stream",
     "text": [
      "Output:\n",
      "----------------------------------------------------------------------------------------------------\n",
      "I enjoy walking with my cute dog, when it's like being in my own home for 10-16 hours per day and then being in a lot of different places around the world.\"\n",
      "\n",
      "\n",
      "\n",
      "\"And he just seems to be taking away\n"
     ]
    }
   ],
   "source": [
    "# set seed to reproduce results. Feel free to change the seed though to get different results\n",
    "torch.manual_seed(0)\n",
    "\n",
    "# set top_k to 50\n",
    "sample_output = model.generate(\n",
    "    input_ids, \n",
    "    do_sample=True, \n",
    "    max_length=50, \n",
    "    top_k=50\n",
    ")\n",
    "\n",
    "print(\"Output:\\n\" + 100 * '-')\n",
    "print(tokenizer.decode(sample_output[0], skip_special_tokens=True))"
   ]
  },
  {
   "cell_type": "markdown",
   "id": "d08566f8-2c97-444f-b689-f2caaa9bb310",
   "metadata": {
    "tags": []
   },
   "source": [
    "# Evaluating"
   ]
  },
  {
   "cell_type": "markdown",
   "id": "d3df8299-8944-4f86-ab8b-241281748e26",
   "metadata": {
    "tags": []
   },
   "source": [
    "## Functions"
   ]
  },
  {
   "cell_type": "code",
   "execution_count": 20,
   "id": "ef71b1c5-b10b-4437-b5a9-ba3e460477aa",
   "metadata": {},
   "outputs": [],
   "source": [
    "def convert_ids_to_token(ids):\n",
    "    return tokenizer.convert_tokens_to_string(\n",
    "        tokenizer.convert_ids_to_tokens(\n",
    "            ids, skip_special_tokens=True\n",
    "        )\n",
    "    ).strip()"
   ]
  },
  {
   "cell_type": "code",
   "execution_count": 21,
   "id": "660e5312-bc39-45fb-94e3-57f38dfe62a8",
   "metadata": {},
   "outputs": [],
   "source": [
    "def get_logit_top_n_tokens(logit, n):\n",
    "    return convert_ids_to_token(\n",
    "        logit.topk(n).indices\n",
    "    ).strip().split(' ')"
   ]
  },
  {
   "cell_type": "code",
   "execution_count": 22,
   "id": "e5ce9556-d7b5-4e73-bb00-77dc48ff6898",
   "metadata": {
    "tags": []
   },
   "outputs": [],
   "source": [
    "def get_sequence_logit_top_n_tokens(input_ids, sequence_logit, n):\n",
    "    lst = []\n",
    "    for i in range(len(input_ids)):\n",
    "        sub_lst = []\n",
    "        token_str = convert_ids_to_token(input_ids[i].item())\n",
    "        sub_lst.append(token_str)\n",
    "        if i > 0:\n",
    "            sub_lst.extend(get_logit_top_n_tokens(sequence_logit[i-1], n))\n",
    "        lst.append(sub_lst)\n",
    "    return lst\n",
    "    "
   ]
  },
  {
   "cell_type": "code",
   "execution_count": null,
   "id": "ecb1e5e3-5bff-47d1-b383-07aa2aee8947",
   "metadata": {},
   "outputs": [],
   "source": []
  },
  {
   "cell_type": "code",
   "execution_count": null,
   "id": "f3a1785e-3cb3-4e45-a30c-fac8e6de5b8e",
   "metadata": {},
   "outputs": [],
   "source": [
    "beam_output = model.generate(\n",
    "    input_ids, \n",
    "    max_length=50, \n",
    "    num_beams=5, \n",
    "    early_stopping=True\n",
    ")\n",
    "\n",
    "print(\"Output:\\n\" + 100 * '-')\n",
    "print(tokenizer.decode(beam_output[0], skip_special_tokens=True))"
   ]
  },
  {
   "cell_type": "code",
   "execution_count": null,
   "id": "af3bbca5-e9c8-4098-b846-17748a3f9863",
   "metadata": {},
   "outputs": [],
   "source": []
  },
  {
   "cell_type": "markdown",
   "id": "fdf09e7a-066f-4a4e-bc30-ddeed17bc657",
   "metadata": {
    "heading_collapsed": "true",
    "tags": []
   },
   "source": [
    "## Testing"
   ]
  },
  {
   "cell_type": "code",
   "execution_count": null,
   "id": "120fe63a-3aca-4e89-922e-61ce35f7362f",
   "metadata": {},
   "outputs": [],
   "source": []
  },
  {
   "cell_type": "code",
   "execution_count": 23,
   "id": "c11764cb-720e-4222-8cdc-5b95122e33bf",
   "metadata": {},
   "outputs": [],
   "source": [
    "generated_model = model(input_ids)"
   ]
  },
  {
   "cell_type": "code",
   "execution_count": 24,
   "id": "9aefbb95-e527-4235-b37b-a8db607a04f2",
   "metadata": {},
   "outputs": [],
   "source": [
    "res = get_sequence_logit_top_n_tokens(input_ids[0],generated_model.logits[0], 9)"
   ]
  },
  {
   "cell_type": "code",
   "execution_count": 26,
   "id": "6c796113-b0a8-420f-b872-fcff48461b1d",
   "metadata": {},
   "outputs": [
    {
     "data": {
      "text/html": [
       "<div>\n",
       "<style scoped>\n",
       "    .dataframe tbody tr th:only-of-type {\n",
       "        vertical-align: middle;\n",
       "    }\n",
       "\n",
       "    .dataframe tbody tr th {\n",
       "        vertical-align: top;\n",
       "    }\n",
       "\n",
       "    .dataframe thead th {\n",
       "        text-align: right;\n",
       "    }\n",
       "</style>\n",
       "<table border=\"1\" class=\"dataframe\">\n",
       "  <thead>\n",
       "    <tr style=\"text-align: right;\">\n",
       "      <th></th>\n",
       "      <th>0</th>\n",
       "      <th>1</th>\n",
       "      <th>2</th>\n",
       "      <th>3</th>\n",
       "      <th>4</th>\n",
       "      <th>5</th>\n",
       "      <th>6</th>\n",
       "      <th>7</th>\n",
       "      <th>8</th>\n",
       "      <th>9</th>\n",
       "    </tr>\n",
       "  </thead>\n",
       "  <tbody>\n",
       "    <tr>\n",
       "      <th>0</th>\n",
       "      <td>I</td>\n",
       "      <td></td>\n",
       "      <td></td>\n",
       "      <td></td>\n",
       "      <td></td>\n",
       "      <td></td>\n",
       "      <td></td>\n",
       "      <td></td>\n",
       "      <td></td>\n",
       "      <td></td>\n",
       "    </tr>\n",
       "    <tr>\n",
       "      <th>1</th>\n",
       "      <td>enjoy</td>\n",
       "      <td>TheI</td>\n",
       "      <td>A.\\nTheA,�</td>\n",
       "      <td></td>\n",
       "      <td></td>\n",
       "      <td></td>\n",
       "      <td></td>\n",
       "      <td></td>\n",
       "      <td></td>\n",
       "      <td></td>\n",
       "    </tr>\n",
       "    <tr>\n",
       "      <th>2</th>\n",
       "      <td>walking</td>\n",
       "      <td>the</td>\n",
       "      <td>this</td>\n",
       "      <td>it</td>\n",
       "      <td>my</td>\n",
       "      <td>your.</td>\n",
       "      <td>and</td>\n",
       "      <td>a</td>\n",
       "      <td>these</td>\n",
       "      <td></td>\n",
       "    </tr>\n",
       "    <tr>\n",
       "      <th>3</th>\n",
       "      <td>with</td>\n",
       "      <td>around,</td>\n",
       "      <td>and</td>\n",
       "      <td>on</td>\n",
       "      <td>in.</td>\n",
       "      <td>through</td>\n",
       "      <td>the</td>\n",
       "      <td>to</td>\n",
       "      <td></td>\n",
       "      <td></td>\n",
       "    </tr>\n",
       "    <tr>\n",
       "      <th>4</th>\n",
       "      <td>my</td>\n",
       "      <td>me</td>\n",
       "      <td>you</td>\n",
       "      <td>my</td>\n",
       "      <td>your</td>\n",
       "      <td>the</td>\n",
       "      <td>a</td>\n",
       "      <td>friends</td>\n",
       "      <td>us</td>\n",
       "      <td>kids</td>\n",
       "    </tr>\n",
       "    <tr>\n",
       "      <th>5</th>\n",
       "      <td>cute</td>\n",
       "      <td>kids</td>\n",
       "      <td>family</td>\n",
       "      <td>wife</td>\n",
       "      <td>friends</td>\n",
       "      <td>dog</td>\n",
       "      <td>children</td>\n",
       "      <td>son</td>\n",
       "      <td>daughter</td>\n",
       "      <td>dogs</td>\n",
       "    </tr>\n",
       "    <tr>\n",
       "      <th>6</th>\n",
       "      <td>dog</td>\n",
       "      <td>little</td>\n",
       "      <td>dog</td>\n",
       "      <td>baby</td>\n",
       "      <td>girl,</td>\n",
       "      <td>cat</td>\n",
       "      <td>daughter</td>\n",
       "      <td>kids</td>\n",
       "      <td>friends</td>\n",
       "      <td></td>\n",
       "    </tr>\n",
       "  </tbody>\n",
       "</table>\n",
       "</div>"
      ],
      "text/plain": [
       "         0        1           2     3        4        5         6        7  \\\n",
       "0        I                                                                   \n",
       "1    enjoy     TheI  A.\\nTheA,�                                              \n",
       "2  walking      the        this    it       my    your.       and        a   \n",
       "3     with  around,         and    on      in.  through       the       to   \n",
       "4       my       me         you    my     your      the         a  friends   \n",
       "5     cute     kids      family  wife  friends      dog  children      son   \n",
       "6      dog   little         dog  baby    girl,      cat  daughter     kids   \n",
       "\n",
       "          8     9  \n",
       "0                  \n",
       "1                  \n",
       "2     these        \n",
       "3                  \n",
       "4        us  kids  \n",
       "5  daughter  dogs  \n",
       "6   friends        "
      ]
     },
     "execution_count": 26,
     "metadata": {},
     "output_type": "execute_result"
    }
   ],
   "source": [
    "pd.DataFrame(res).fillna('')"
   ]
  },
  {
   "cell_type": "code",
   "execution_count": 57,
   "id": "ea3aa901-136f-46b7-91e3-e9031b88c003",
   "metadata": {},
   "outputs": [],
   "source": [
    "generated_model = model(sample_output)"
   ]
  },
  {
   "cell_type": "code",
   "execution_count": 58,
   "id": "6f7707e3-dae8-46cd-b005-41cdadbbaa1f",
   "metadata": {},
   "outputs": [],
   "source": [
    "res = get_sequence_logit_top_n_tokens(sample_output[0],generated_model.logits[0], 9)"
   ]
  },
  {
   "cell_type": "code",
   "execution_count": 59,
   "id": "ee108e7c-9b5d-4ed3-9808-c35b94ab3eb1",
   "metadata": {},
   "outputs": [
    {
     "data": {
      "text/html": [
       "<div>\n",
       "<style scoped>\n",
       "    .dataframe tbody tr th:only-of-type {\n",
       "        vertical-align: middle;\n",
       "    }\n",
       "\n",
       "    .dataframe tbody tr th {\n",
       "        vertical-align: top;\n",
       "    }\n",
       "\n",
       "    .dataframe thead th {\n",
       "        text-align: right;\n",
       "    }\n",
       "</style>\n",
       "<table border=\"1\" class=\"dataframe\">\n",
       "  <thead>\n",
       "    <tr style=\"text-align: right;\">\n",
       "      <th></th>\n",
       "      <th>0</th>\n",
       "      <th>1</th>\n",
       "      <th>2</th>\n",
       "      <th>3</th>\n",
       "      <th>4</th>\n",
       "      <th>5</th>\n",
       "      <th>6</th>\n",
       "      <th>7</th>\n",
       "      <th>8</th>\n",
       "      <th>9</th>\n",
       "    </tr>\n",
       "  </thead>\n",
       "  <tbody>\n",
       "    <tr>\n",
       "      <th>0</th>\n",
       "      <td>I</td>\n",
       "      <td></td>\n",
       "      <td></td>\n",
       "      <td></td>\n",
       "      <td></td>\n",
       "      <td></td>\n",
       "      <td></td>\n",
       "      <td></td>\n",
       "      <td></td>\n",
       "      <td></td>\n",
       "    </tr>\n",
       "    <tr>\n",
       "      <th>1</th>\n",
       "      <td>enjoy</td>\n",
       "      <td>TheI</td>\n",
       "      <td>A.\\nTheA,�</td>\n",
       "      <td></td>\n",
       "      <td></td>\n",
       "      <td></td>\n",
       "      <td></td>\n",
       "      <td></td>\n",
       "      <td></td>\n",
       "      <td></td>\n",
       "    </tr>\n",
       "    <tr>\n",
       "      <th>2</th>\n",
       "      <td>walking</td>\n",
       "      <td>the</td>\n",
       "      <td>this</td>\n",
       "      <td>it</td>\n",
       "      <td>my</td>\n",
       "      <td>your.</td>\n",
       "      <td>and</td>\n",
       "      <td>a</td>\n",
       "      <td>these</td>\n",
       "      <td></td>\n",
       "    </tr>\n",
       "    <tr>\n",
       "      <th>3</th>\n",
       "      <td>with</td>\n",
       "      <td>around,</td>\n",
       "      <td>and</td>\n",
       "      <td>on</td>\n",
       "      <td>in.</td>\n",
       "      <td>through</td>\n",
       "      <td>the</td>\n",
       "      <td>to</td>\n",
       "      <td></td>\n",
       "      <td></td>\n",
       "    </tr>\n",
       "    <tr>\n",
       "      <th>4</th>\n",
       "      <td>my</td>\n",
       "      <td>me</td>\n",
       "      <td>you</td>\n",
       "      <td>my</td>\n",
       "      <td>your</td>\n",
       "      <td>the</td>\n",
       "      <td>a</td>\n",
       "      <td>friends</td>\n",
       "      <td>us</td>\n",
       "      <td>kids</td>\n",
       "    </tr>\n",
       "    <tr>\n",
       "      <th>5</th>\n",
       "      <td>cute</td>\n",
       "      <td>kids</td>\n",
       "      <td>family</td>\n",
       "      <td>wife</td>\n",
       "      <td>friends</td>\n",
       "      <td>dog</td>\n",
       "      <td>children</td>\n",
       "      <td>son</td>\n",
       "      <td>daughter</td>\n",
       "      <td>dogs</td>\n",
       "    </tr>\n",
       "    <tr>\n",
       "      <th>6</th>\n",
       "      <td>dog</td>\n",
       "      <td>little</td>\n",
       "      <td>dog</td>\n",
       "      <td>baby</td>\n",
       "      <td>girl,</td>\n",
       "      <td>cat</td>\n",
       "      <td>daughter</td>\n",
       "      <td>kids</td>\n",
       "      <td>friends</td>\n",
       "      <td></td>\n",
       "    </tr>\n",
       "    <tr>\n",
       "      <th>7</th>\n",
       "      <td>,</td>\n",
       "      <td>.,</td>\n",
       "      <td>and!</td>\n",
       "      <td>in</td>\n",
       "      <td>at</td>\n",
       "      <td>(</td>\n",
       "      <td>while</td>\n",
       "      <td>when</td>\n",
       "      <td></td>\n",
       "      <td></td>\n",
       "    </tr>\n",
       "    <tr>\n",
       "      <th>8</th>\n",
       "      <td>when</td>\n",
       "      <td>and</td>\n",
       "      <td>but</td>\n",
       "      <td>which</td>\n",
       "      <td>so�</td>\n",
       "      <td>I</td>\n",
       "      <td>my</td>\n",
       "      <td>who</td>\n",
       "      <td>the</td>\n",
       "      <td></td>\n",
       "    </tr>\n",
       "    <tr>\n",
       "      <th>9</th>\n",
       "      <td>it</td>\n",
       "      <td>I</td>\n",
       "      <td>she</td>\n",
       "      <td>we</td>\n",
       "      <td>he</td>\n",
       "      <td>they</td>\n",
       "      <td>it</td>\n",
       "      <td>you</td>\n",
       "      <td>my</td>\n",
       "      <td>the</td>\n",
       "    </tr>\n",
       "    <tr>\n",
       "      <th>10</th>\n",
       "      <td>'s</td>\n",
       "      <td>'s�</td>\n",
       "      <td>is</td>\n",
       "      <td>comes</td>\n",
       "      <td>gets</td>\n",
       "      <td>doesn</td>\n",
       "      <td>does</td>\n",
       "      <td>isn</td>\n",
       "      <td>was</td>\n",
       "      <td></td>\n",
       "    </tr>\n",
       "    <tr>\n",
       "      <th>11</th>\n",
       "      <td>like</td>\n",
       "      <td>time</td>\n",
       "      <td>not</td>\n",
       "      <td>too</td>\n",
       "      <td>all</td>\n",
       "      <td>just</td>\n",
       "      <td>a</td>\n",
       "      <td>up</td>\n",
       "      <td>warm</td>\n",
       "      <td>the</td>\n",
       "    </tr>\n",
       "    <tr>\n",
       "      <th>12</th>\n",
       "      <td>being</td>\n",
       "      <td>I</td>\n",
       "      <td>a</td>\n",
       "      <td>walking</td>\n",
       "      <td>being</td>\n",
       "      <td>you</td>\n",
       "      <td>she</td>\n",
       "      <td>it</td>\n",
       "      <td>we</td>\n",
       "      <td>the</td>\n",
       "    </tr>\n",
       "    <tr>\n",
       "      <th>13</th>\n",
       "      <td>in</td>\n",
       "      <td>in</td>\n",
       "      <td>alone</td>\n",
       "      <td>a</td>\n",
       "      <td>on</td>\n",
       "      <td>around</td>\n",
       "      <td>with</td>\n",
       "      <td>out</td>\n",
       "      <td>surrounded</td>\n",
       "      <td>home</td>\n",
       "    </tr>\n",
       "    <tr>\n",
       "      <th>14</th>\n",
       "      <td>my</td>\n",
       "      <td>a</td>\n",
       "      <td>the</td>\n",
       "      <td>love</td>\n",
       "      <td>your</td>\n",
       "      <td>my</td>\n",
       "      <td>front</td>\n",
       "      <td>bed</td>\n",
       "      <td>an</td>\n",
       "      <td>school</td>\n",
       "    </tr>\n",
       "    <tr>\n",
       "      <th>15</th>\n",
       "      <td>own</td>\n",
       "      <td>own</td>\n",
       "      <td>house</td>\n",
       "      <td>car</td>\n",
       "      <td>room</td>\n",
       "      <td>home</td>\n",
       "      <td>little</td>\n",
       "      <td>bedroom</td>\n",
       "      <td>apartment</td>\n",
       "      <td>backyard</td>\n",
       "    </tr>\n",
       "    <tr>\n",
       "      <th>16</th>\n",
       "      <td>home</td>\n",
       "      <td>house</td>\n",
       "      <td>backyard</td>\n",
       "      <td>world</td>\n",
       "      <td>home</td>\n",
       "      <td>life</td>\n",
       "      <td>room</td>\n",
       "      <td>apartment</td>\n",
       "      <td>little</td>\n",
       "      <td>family</td>\n",
       "    </tr>\n",
       "    <tr>\n",
       "      <th>17</th>\n",
       "      <td>for</td>\n",
       "      <td>.,</td>\n",
       "      <td>and.\"</td>\n",
       "      <td>with!</td>\n",
       "      <td>for</td>\n",
       "      <td>or,\"</td>\n",
       "      <td></td>\n",
       "      <td></td>\n",
       "      <td></td>\n",
       "      <td></td>\n",
       "    </tr>\n",
       "    <tr>\n",
       "      <th>18</th>\n",
       "      <td>10</td>\n",
       "      <td>the</td>\n",
       "      <td>a</td>\n",
       "      <td>some</td>\n",
       "      <td>two</td>\n",
       "      <td>hours</td>\n",
       "      <td>so</td>\n",
       "      <td>about</td>\n",
       "      <td>days</td>\n",
       "      <td>three</td>\n",
       "    </tr>\n",
       "    <tr>\n",
       "      <th>19</th>\n",
       "      <td>-</td>\n",
       "      <td>days</td>\n",
       "      <td>years</td>\n",
       "      <td>minutes</td>\n",
       "      <td>hours-</td>\n",
       "      <td>or</td>\n",
       "      <td>months</td>\n",
       "      <td>weeks+</td>\n",
       "      <td></td>\n",
       "      <td></td>\n",
       "    </tr>\n",
       "    <tr>\n",
       "      <th>20</th>\n",
       "      <td>16</td>\n",
       "      <td>15201210plus3011years14</td>\n",
       "      <td></td>\n",
       "      <td></td>\n",
       "      <td></td>\n",
       "      <td></td>\n",
       "      <td></td>\n",
       "      <td></td>\n",
       "      <td></td>\n",
       "      <td></td>\n",
       "    </tr>\n",
       "    <tr>\n",
       "      <th>21</th>\n",
       "      <td>hours</td>\n",
       "      <td>hours</td>\n",
       "      <td>days</td>\n",
       "      <td>months</td>\n",
       "      <td>years</td>\n",
       "      <td>weeks</td>\n",
       "      <td>minutes</td>\n",
       "      <td>nights</td>\n",
       "      <td>hrs</td>\n",
       "      <td>mins</td>\n",
       "    </tr>\n",
       "    <tr>\n",
       "      <th>22</th>\n",
       "      <td>per</td>\n",
       "      <td>a.,</td>\n",
       "      <td>every</td>\n",
       "      <td>and</td>\n",
       "      <td>or</td>\n",
       "      <td>at</td>\n",
       "      <td>straight</td>\n",
       "      <td>each</td>\n",
       "      <td></td>\n",
       "      <td></td>\n",
       "    </tr>\n",
       "    <tr>\n",
       "      <th>23</th>\n",
       "      <td>day</td>\n",
       "      <td>day</td>\n",
       "      <td>week</td>\n",
       "      <td>night</td>\n",
       "      <td>month</td>\n",
       "      <td>hour</td>\n",
       "      <td>year</td>\n",
       "      <td>weekend</td>\n",
       "      <td>morning</td>\n",
       "      <td>minute</td>\n",
       "    </tr>\n",
       "    <tr>\n",
       "      <th>24</th>\n",
       "      <td>and</td>\n",
       "      <td>.,</td>\n",
       "      <td>and!.\"</td>\n",
       "      <td>or</td>\n",
       "      <td>for</td>\n",
       "      <td>(</td>\n",
       "      <td>with</td>\n",
       "      <td></td>\n",
       "      <td></td>\n",
       "      <td></td>\n",
       "    </tr>\n",
       "    <tr>\n",
       "      <th>25</th>\n",
       "      <td>then</td>\n",
       "      <td>then</td>\n",
       "      <td>I</td>\n",
       "      <td>it</td>\n",
       "      <td>having</td>\n",
       "      <td>getting</td>\n",
       "      <td>being</td>\n",
       "      <td>not</td>\n",
       "      <td>the</td>\n",
       "      <td>you</td>\n",
       "    </tr>\n",
       "    <tr>\n",
       "      <th>26</th>\n",
       "      <td>being</td>\n",
       "      <td>having</td>\n",
       "      <td>getting</td>\n",
       "      <td>being</td>\n",
       "      <td>walking</td>\n",
       "      <td>I</td>\n",
       "      <td>it</td>\n",
       "      <td>you</td>\n",
       "      <td>just</td>\n",
       "      <td>going</td>\n",
       "    </tr>\n",
       "    <tr>\n",
       "      <th>27</th>\n",
       "      <td>in</td>\n",
       "      <td>in</td>\n",
       "      <td>able</td>\n",
       "      <td>out</td>\n",
       "      <td>away</td>\n",
       "      <td>on</td>\n",
       "      <td>alone</td>\n",
       "      <td>there</td>\n",
       "      <td>home</td>\n",
       "      <td>a</td>\n",
       "    </tr>\n",
       "    <tr>\n",
       "      <th>28</th>\n",
       "      <td>a</td>\n",
       "      <td>my</td>\n",
       "      <td>the</td>\n",
       "      <td>a</td>\n",
       "      <td>your</td>\n",
       "      <td>bed</td>\n",
       "      <td>it</td>\n",
       "      <td>that</td>\n",
       "      <td>an</td>\n",
       "      <td>another</td>\n",
       "    </tr>\n",
       "    <tr>\n",
       "      <th>29</th>\n",
       "      <td>lot</td>\n",
       "      <td>house</td>\n",
       "      <td>room</td>\n",
       "      <td>different</td>\n",
       "      <td>car</td>\n",
       "      <td>home</td>\n",
       "      <td>little</td>\n",
       "      <td>place</td>\n",
       "      <td>situation</td>\n",
       "      <td>nice</td>\n",
       "    </tr>\n",
       "    <tr>\n",
       "      <th>30</th>\n",
       "      <td>of</td>\n",
       "      <td>of</td>\n",
       "      <td>more</td>\n",
       "      <td>longer.</td>\n",
       "      <td>less,</td>\n",
       "      <td>and</td>\n",
       "      <td>to</td>\n",
       "      <td>for</td>\n",
       "      <td></td>\n",
       "      <td></td>\n",
       "    </tr>\n",
       "    <tr>\n",
       "      <th>31</th>\n",
       "      <td>different</td>\n",
       "      <td>situations</td>\n",
       "      <td>trouble</td>\n",
       "      <td>other</td>\n",
       "      <td>pain</td>\n",
       "      <td>the</td>\n",
       "      <td>different</td>\n",
       "      <td>fun</td>\n",
       "      <td>places</td>\n",
       "      <td>people</td>\n",
       "    </tr>\n",
       "    <tr>\n",
       "      <th>32</th>\n",
       "      <td>places</td>\n",
       "      <td>places</td>\n",
       "      <td>situations</td>\n",
       "      <td>areas</td>\n",
       "      <td>environments</td>\n",
       "      <td>rooms</td>\n",
       "      <td>things</td>\n",
       "      <td>homes</td>\n",
       "      <td>ways</td>\n",
       "      <td>people</td>\n",
       "    </tr>\n",
       "    <tr>\n",
       "      <th>33</th>\n",
       "      <td>around</td>\n",
       "      <td>.,</td>\n",
       "      <td>and</td>\n",
       "      <td>to.\"</td>\n",
       "      <td>in</td>\n",
       "      <td>for</td>\n",
       "      <td>that,\"</td>\n",
       "      <td></td>\n",
       "      <td></td>\n",
       "      <td></td>\n",
       "    </tr>\n",
       "    <tr>\n",
       "      <th>34</th>\n",
       "      <td>the</td>\n",
       "      <td>the</td>\n",
       "      <td>town</td>\n",
       "      <td>here.</td>\n",
       "      <td>my</td>\n",
       "      <td>me,</td>\n",
       "      <td>there</td>\n",
       "      <td>you</td>\n",
       "      <td></td>\n",
       "      <td></td>\n",
       "    </tr>\n",
       "    <tr>\n",
       "      <th>35</th>\n",
       "      <td>world</td>\n",
       "      <td>world</td>\n",
       "      <td>country</td>\n",
       "      <td>house</td>\n",
       "      <td>city</td>\n",
       "      <td>globe</td>\n",
       "      <td>place</td>\n",
       "      <td>town</td>\n",
       "      <td>same</td>\n",
       "      <td>state</td>\n",
       "    </tr>\n",
       "    <tr>\n",
       "      <th>36</th>\n",
       "      <td>.\"</td>\n",
       "      <td>.,.\"</td>\n",
       "      <td>and</td>\n",
       "      <td>for,\"</td>\n",
       "      <td>to</td>\n",
       "      <td>that...</td>\n",
       "      <td></td>\n",
       "      <td></td>\n",
       "      <td></td>\n",
       "      <td></td>\n",
       "    </tr>\n",
       "    <tr>\n",
       "      <th>37</th>\n",
       "      <td></td>\n",
       "      <td>-</td>\n",
       "      <td>–</td>\n",
       "      <td>(</td>\n",
       "      <td>\"</td>\n",
       "      <td>She</td>\n",
       "      <td>He</td>\n",
       "      <td></td>\n",
       "      <td></td>\n",
       "      <td></td>\n",
       "    </tr>\n",
       "    <tr>\n",
       "      <th>38</th>\n",
       "      <td></td>\n",
       "      <td>\"TheAInIItHeThis</td>\n",
       "      <td></td>\n",
       "      <td></td>\n",
       "      <td></td>\n",
       "      <td></td>\n",
       "      <td></td>\n",
       "      <td></td>\n",
       "      <td></td>\n",
       "      <td></td>\n",
       "    </tr>\n",
       "    <tr>\n",
       "      <th>39</th>\n",
       "      <td></td>\n",
       "      <td>\"TheAHeInButItI</td>\n",
       "      <td></td>\n",
       "      <td></td>\n",
       "      <td></td>\n",
       "      <td></td>\n",
       "      <td></td>\n",
       "      <td></td>\n",
       "      <td></td>\n",
       "      <td></td>\n",
       "    </tr>\n",
       "    <tr>\n",
       "      <th>40</th>\n",
       "      <td></td>\n",
       "      <td>\"TheHeButAInItAnd</td>\n",
       "      <td></td>\n",
       "      <td></td>\n",
       "      <td></td>\n",
       "      <td></td>\n",
       "      <td></td>\n",
       "      <td></td>\n",
       "      <td></td>\n",
       "      <td></td>\n",
       "    </tr>\n",
       "    <tr>\n",
       "      <th>41</th>\n",
       "      <td>\"</td>\n",
       "      <td>\"\\nTheHeButSheAndAIn</td>\n",
       "      <td></td>\n",
       "      <td></td>\n",
       "      <td></td>\n",
       "      <td></td>\n",
       "      <td></td>\n",
       "      <td></td>\n",
       "      <td></td>\n",
       "      <td></td>\n",
       "    </tr>\n",
       "    <tr>\n",
       "      <th>42</th>\n",
       "      <td>And</td>\n",
       "      <td>IItTheWeMyWhenYouThisAnd</td>\n",
       "      <td></td>\n",
       "      <td></td>\n",
       "      <td></td>\n",
       "      <td></td>\n",
       "      <td></td>\n",
       "      <td></td>\n",
       "      <td></td>\n",
       "      <td></td>\n",
       "    </tr>\n",
       "    <tr>\n",
       "      <th>43</th>\n",
       "      <td>he</td>\n",
       "      <td>I</td>\n",
       "      <td>that</td>\n",
       "      <td>then</td>\n",
       "      <td>it</td>\n",
       "      <td>when</td>\n",
       "      <td>the</td>\n",
       "      <td>if</td>\n",
       "      <td>so</td>\n",
       "      <td>you</td>\n",
       "    </tr>\n",
       "    <tr>\n",
       "      <th>44</th>\n",
       "      <td>just</td>\n",
       "      <td>'s</td>\n",
       "      <td>loves</td>\n",
       "      <td>was</td>\n",
       "      <td>just</td>\n",
       "      <td>has</td>\n",
       "      <td>is</td>\n",
       "      <td>likes</td>\n",
       "      <td>always</td>\n",
       "      <td>said</td>\n",
       "    </tr>\n",
       "    <tr>\n",
       "      <th>45</th>\n",
       "      <td>seems</td>\n",
       "      <td>loves</td>\n",
       "      <td>likes</td>\n",
       "      <td>keeps</td>\n",
       "      <td>wants</td>\n",
       "      <td>has</td>\n",
       "      <td>kind</td>\n",
       "      <td>said</td>\n",
       "      <td>doesn</td>\n",
       "      <td>goes</td>\n",
       "    </tr>\n",
       "    <tr>\n",
       "      <th>46</th>\n",
       "      <td>to</td>\n",
       "      <td>to</td>\n",
       "      <td>like</td>\n",
       "      <td>so</td>\n",
       "      <td>really</td>\n",
       "      <td>very</td>\n",
       "      <td>a</td>\n",
       "      <td>kind</td>\n",
       "      <td>more</td>\n",
       "      <td>happy</td>\n",
       "    </tr>\n",
       "    <tr>\n",
       "      <th>47</th>\n",
       "      <td>be</td>\n",
       "      <td>be</td>\n",
       "      <td>have</td>\n",
       "      <td>love</td>\n",
       "      <td>like</td>\n",
       "      <td>just</td>\n",
       "      <td>get</td>\n",
       "      <td>enjoy</td>\n",
       "      <td>think</td>\n",
       "      <td>do</td>\n",
       "    </tr>\n",
       "    <tr>\n",
       "      <th>48</th>\n",
       "      <td>taking</td>\n",
       "      <td>a</td>\n",
       "      <td>doing</td>\n",
       "      <td>so</td>\n",
       "      <td>just</td>\n",
       "      <td>very</td>\n",
       "      <td>the</td>\n",
       "      <td>in</td>\n",
       "      <td>enjoying</td>\n",
       "      <td>really</td>\n",
       "    </tr>\n",
       "    <tr>\n",
       "      <th>49</th>\n",
       "      <td>away</td>\n",
       "      <td>it</td>\n",
       "      <td>a</td>\n",
       "      <td>the</td>\n",
       "      <td>care</td>\n",
       "      <td>his</td>\n",
       "      <td>on</td>\n",
       "      <td>me</td>\n",
       "      <td>that</td>\n",
       "      <td>my</td>\n",
       "    </tr>\n",
       "  </tbody>\n",
       "</table>\n",
       "</div>"
      ],
      "text/plain": [
       "            0                         1           2          3             4  \\\n",
       "0           I                                                                  \n",
       "1       enjoy                      TheI  A.\\nTheA,�                            \n",
       "2     walking                       the        this         it            my   \n",
       "3        with                   around,         and         on           in.   \n",
       "4          my                        me         you         my          your   \n",
       "5        cute                      kids      family       wife       friends   \n",
       "6         dog                    little         dog       baby         girl,   \n",
       "7           ,                        .,        and!         in            at   \n",
       "8        when                       and         but      which           so�   \n",
       "9          it                         I         she         we            he   \n",
       "10         's                       's�          is      comes          gets   \n",
       "11       like                      time         not        too           all   \n",
       "12      being                         I           a    walking         being   \n",
       "13         in                        in       alone          a            on   \n",
       "14         my                         a         the       love          your   \n",
       "15        own                       own       house        car          room   \n",
       "16       home                     house    backyard      world          home   \n",
       "17        for                        .,       and.\"      with!           for   \n",
       "18         10                       the           a       some           two   \n",
       "19          -                      days       years    minutes        hours-   \n",
       "20         16   15201210plus3011years14                                        \n",
       "21      hours                     hours        days     months         years   \n",
       "22        per                       a.,       every        and            or   \n",
       "23        day                       day        week      night         month   \n",
       "24        and                        .,      and!.\"         or           for   \n",
       "25       then                      then           I         it        having   \n",
       "26      being                    having     getting      being       walking   \n",
       "27         in                        in        able        out          away   \n",
       "28          a                        my         the          a          your   \n",
       "29        lot                     house        room  different           car   \n",
       "30         of                        of        more    longer.         less,   \n",
       "31  different                situations     trouble      other          pain   \n",
       "32     places                    places  situations      areas  environments   \n",
       "33     around                        .,         and       to.\"            in   \n",
       "34        the                       the        town      here.            my   \n",
       "35      world                     world     country      house          city   \n",
       "36         .\"                      .,.\"         and      for,\"            to   \n",
       "37                                    -           –          (             \"   \n",
       "38                     \"TheAInIItHeThis                                        \n",
       "39                      \"TheAHeInButItI                                        \n",
       "40                    \"TheHeButAInItAnd                                        \n",
       "41          \"      \"\\nTheHeButSheAndAIn                                        \n",
       "42        And  IItTheWeMyWhenYouThisAnd                                        \n",
       "43         he                         I        that       then            it   \n",
       "44       just                        's       loves        was          just   \n",
       "45      seems                     loves       likes      keeps         wants   \n",
       "46         to                        to        like         so        really   \n",
       "47         be                        be        have       love          like   \n",
       "48     taking                         a       doing         so          just   \n",
       "49       away                        it           a        the          care   \n",
       "\n",
       "          5          6          7           8         9  \n",
       "0                                                        \n",
       "1                                                        \n",
       "2     your.        and          a       these            \n",
       "3   through        the         to                        \n",
       "4       the          a    friends          us      kids  \n",
       "5       dog   children        son    daughter      dogs  \n",
       "6       cat   daughter       kids     friends            \n",
       "7         (      while       when                        \n",
       "8         I         my        who         the            \n",
       "9      they         it        you          my       the  \n",
       "10    doesn       does        isn         was            \n",
       "11     just          a         up        warm       the  \n",
       "12      you        she         it          we       the  \n",
       "13   around       with        out  surrounded      home  \n",
       "14       my      front        bed          an    school  \n",
       "15     home     little    bedroom   apartment  backyard  \n",
       "16     life       room  apartment      little    family  \n",
       "17     or,\"                                              \n",
       "18    hours         so      about        days     three  \n",
       "19       or     months     weeks+                        \n",
       "20                                                       \n",
       "21    weeks    minutes     nights         hrs      mins  \n",
       "22       at   straight       each                        \n",
       "23     hour       year    weekend     morning    minute  \n",
       "24        (       with                                   \n",
       "25  getting      being        not         the       you  \n",
       "26        I         it        you        just     going  \n",
       "27       on      alone      there        home         a  \n",
       "28      bed         it       that          an   another  \n",
       "29     home     little      place   situation      nice  \n",
       "30      and         to        for                        \n",
       "31      the  different        fun      places    people  \n",
       "32    rooms     things      homes        ways    people  \n",
       "33      for     that,\"                                   \n",
       "34      me,      there        you                        \n",
       "35    globe      place       town        same     state  \n",
       "36  that...                                              \n",
       "37      She         He                                   \n",
       "38                                                       \n",
       "39                                                       \n",
       "40                                                       \n",
       "41                                                       \n",
       "42                                                       \n",
       "43     when        the         if          so       you  \n",
       "44      has         is      likes      always      said  \n",
       "45      has       kind       said       doesn      goes  \n",
       "46     very          a       kind        more     happy  \n",
       "47     just        get      enjoy       think        do  \n",
       "48     very        the         in    enjoying    really  \n",
       "49      his         on         me        that        my  "
      ]
     },
     "execution_count": 59,
     "metadata": {},
     "output_type": "execute_result"
    }
   ],
   "source": [
    "pd.DataFrame(res).fillna('')"
   ]
  },
  {
   "cell_type": "code",
   "execution_count": null,
   "id": "242fb74b-a350-4c23-a9db-33f3042b3110",
   "metadata": {},
   "outputs": [],
   "source": []
  },
  {
   "cell_type": "markdown",
   "id": "d99d55e3-2507-4982-a915-b8c2ac8f0985",
   "metadata": {
    "heading_collapsed": "true",
    "tags": []
   },
   "source": [
    "## More"
   ]
  },
  {
   "cell_type": "code",
   "execution_count": 24,
   "id": "a6be74b3-75b0-4c40-9102-8a783b4f6a88",
   "metadata": {},
   "outputs": [],
   "source": [
    "x = model(input_ids)"
   ]
  },
  {
   "cell_type": "code",
   "execution_count": 25,
   "id": "f79d5cc1-bc9f-427c-983a-9dfe6f898751",
   "metadata": {},
   "outputs": [
    {
     "data": {
      "text/plain": [
       "['I', 'Ġenjoy', 'Ġwalking', 'Ġwith', 'Ġmy', 'Ġcute', 'Ġdog']"
      ]
     },
     "execution_count": 25,
     "metadata": {},
     "output_type": "execute_result"
    }
   ],
   "source": [
    "tokenizer.convert_ids_to_tokens(input_ids[0])"
   ]
  },
  {
   "cell_type": "code",
   "execution_count": 26,
   "id": "38a01dcc-c45d-4ecd-a0a0-86414ef59c05",
   "metadata": {},
   "outputs": [
    {
     "data": {
      "text/plain": [
       "'I enjoy walking with my cute dog, when it\\'s like being in my own home for 10-16 hours per day and then being in a lot of different places around the world.\"\\n\\n\\n\\n\"And he just seems to be taking away'"
      ]
     },
     "execution_count": 26,
     "metadata": {},
     "output_type": "execute_result"
    }
   ],
   "source": [
    "tokenizer.convert_tokens_to_string(\n",
    "    tokenizer.convert_ids_to_tokens(\n",
    "        sample_output[0], skip_special_tokens=True\n",
    "    )\n",
    ")"
   ]
  },
  {
   "cell_type": "code",
   "execution_count": 27,
   "id": "5fc63ab6-2f62-4485-bbd8-eb9e4494dbd9",
   "metadata": {},
   "outputs": [
    {
     "data": {
      "text/plain": [
       "'I enjoy walking with my cute dog'"
      ]
     },
     "execution_count": 27,
     "metadata": {},
     "output_type": "execute_result"
    }
   ],
   "source": [
    "tokenizer.convert_tokens_to_string(\n",
    "    tokenizer.convert_ids_to_tokens(\n",
    "        input_ids[0], skip_special_tokens=True\n",
    "    )\n",
    ")"
   ]
  },
  {
   "cell_type": "code",
   "execution_count": 28,
   "id": "7f478033-5c3e-40b9-b257-9e7a70b96035",
   "metadata": {},
   "outputs": [
    {
     "data": {
      "text/plain": [
       "torch.Size([1, 7, 50257])"
      ]
     },
     "execution_count": 28,
     "metadata": {},
     "output_type": "execute_result"
    }
   ],
   "source": [
    "x.logits.shape"
   ]
  },
  {
   "cell_type": "code",
   "execution_count": 29,
   "id": "913eae1c-bc43-45c9-86b5-0d09ec3a2680",
   "metadata": {},
   "outputs": [
    {
     "data": {
      "text/plain": [
       "'dog'"
      ]
     },
     "execution_count": 29,
     "metadata": {},
     "output_type": "execute_result"
    }
   ],
   "source": [
    "tokenizer.convert_tokens_to_string('dog')"
   ]
  },
  {
   "cell_type": "code",
   "execution_count": 30,
   "id": "c549c116-bca1-4f48-a04f-a2c6dfe47e75",
   "metadata": {},
   "outputs": [
    {
     "data": {
      "text/plain": [
       "'I enjoy walking with my cute dog, when it\\'s like being in my own home for 10-16 hours per day and then being in a lot of different places around the world.\"\\n\\n\\n\\n\"And he just seems to be taking away'"
      ]
     },
     "execution_count": 30,
     "metadata": {},
     "output_type": "execute_result"
    }
   ],
   "source": [
    "tokenizer.decode(sample_output[0], skip_special_tokens=True, clean_up_tokenization_spaces=True)"
   ]
  },
  {
   "cell_type": "code",
   "execution_count": 31,
   "id": "aafc66c4-5c82-4f32-865e-c4cb2aab9e08",
   "metadata": {},
   "outputs": [
    {
     "data": {
      "text/plain": [
       "'I enjoy walking with my cute dog, when it\\'s like being in my own home for 10-16 hours per day and then being in a lot of different places around the world.\"\\n\\n\\n\\n\"And he just seems to be taking away'"
      ]
     },
     "execution_count": 31,
     "metadata": {},
     "output_type": "execute_result"
    }
   ],
   "source": [
    "tokenizer.decode(sample_output[0], skip_special_tokens=True)"
   ]
  },
  {
   "cell_type": "code",
   "execution_count": 32,
   "id": "f54d2539-3e4c-48c8-9f22-a1359a145940",
   "metadata": {},
   "outputs": [
    {
     "data": {
      "text/plain": [
       "tensor([-57.2613, -60.7171, -65.1646,  ..., -68.9890, -67.5203, -61.3845],\n",
       "       grad_fn=<SelectBackward>)"
      ]
     },
     "execution_count": 32,
     "metadata": {},
     "output_type": "execute_result"
    }
   ],
   "source": [
    "x.logits[0,1]"
   ]
  },
  {
   "cell_type": "code",
   "execution_count": 33,
   "id": "a75f5f76-4658-4e27-8e1d-06c393f93d0f",
   "metadata": {},
   "outputs": [
    {
     "data": {
      "text/plain": [
       "['the', 'this', 'it', 'my', 'your']"
      ]
     },
     "execution_count": 33,
     "metadata": {},
     "output_type": "execute_result"
    }
   ],
   "source": [
    "get_logit_top_n_tokens(x.logits[0,1], 5)"
   ]
  },
  {
   "cell_type": "code",
   "execution_count": null,
   "id": "e51efb73-19e8-4604-b955-3316c3018732",
   "metadata": {},
   "outputs": [],
   "source": []
  },
  {
   "cell_type": "code",
   "execution_count": null,
   "id": "529aca67-063b-4147-a4d7-a82265a43a51",
   "metadata": {},
   "outputs": [],
   "source": []
  },
  {
   "cell_type": "code",
   "execution_count": null,
   "id": "a0814a13-4c6c-4450-868c-7a5e6545689f",
   "metadata": {},
   "outputs": [],
   "source": []
  },
  {
   "cell_type": "code",
   "execution_count": 34,
   "id": "50f6d2cc-a01f-4c8e-80f7-83adf82ed41e",
   "metadata": {},
   "outputs": [],
   "source": [
    "t = x.logits[0,1]"
   ]
  },
  {
   "cell_type": "code",
   "execution_count": 35,
   "id": "e160fd69-0484-4ead-a4f8-a35b36aab1cb",
   "metadata": {},
   "outputs": [],
   "source": [
    "t2 = t.sort(descending=True)"
   ]
  },
  {
   "cell_type": "code",
   "execution_count": 36,
   "id": "695198f6-6f97-403d-a3c0-845cad2e58a1",
   "metadata": {},
   "outputs": [],
   "source": [
    "t2 = t.topk(5)"
   ]
  },
  {
   "cell_type": "code",
   "execution_count": null,
   "id": "2d692cd6-2976-4fda-8d61-4801f542e755",
   "metadata": {},
   "outputs": [],
   "source": []
  },
  {
   "cell_type": "code",
   "execution_count": 37,
   "id": "61c589d7-a1fc-4c76-96c2-b39b3fa31f24",
   "metadata": {},
   "outputs": [
    {
     "data": {
      "text/plain": [
       "tensor([   40,  2883,  6155,   351,   616, 13779,  3290])"
      ]
     },
     "execution_count": 37,
     "metadata": {},
     "output_type": "execute_result"
    }
   ],
   "source": [
    "input_ids[0]"
   ]
  },
  {
   "cell_type": "code",
   "execution_count": null,
   "id": "1e28b1dc-9b9e-4116-a07b-09d7019dda39",
   "metadata": {},
   "outputs": [],
   "source": []
  },
  {
   "cell_type": "code",
   "execution_count": 38,
   "id": "0e19b015-c89b-450e-8315-bde5aa17725b",
   "metadata": {},
   "outputs": [
    {
     "data": {
      "text/plain": [
       "[transformers.models.gpt2.modeling_gpt2.GPT2LMHeadModel,\n",
       " transformers.models.gpt2.modeling_gpt2.GPT2PreTrainedModel,\n",
       " transformers.modeling_utils.PreTrainedModel,\n",
       " torch.nn.modules.module.Module,\n",
       " transformers.modeling_utils.ModuleUtilsMixin,\n",
       " transformers.generation_utils.GenerationMixin,\n",
       " transformers.file_utils.PushToHubMixin,\n",
       " object]"
      ]
     },
     "execution_count": 38,
     "metadata": {},
     "output_type": "execute_result"
    }
   ],
   "source": [
    "type(model).mro()"
   ]
  },
  {
   "cell_type": "code",
   "execution_count": null,
   "id": "9ae99a21-74a7-4736-b8a2-5881acdd31d5",
   "metadata": {},
   "outputs": [],
   "source": []
  }
 ],
 "metadata": {
  "kernelspec": {
   "display_name": "Python 3",
   "language": "python",
   "name": "python3"
  },
  "language_info": {
   "codemirror_mode": {
    "name": "ipython",
    "version": 3
   },
   "file_extension": ".py",
   "mimetype": "text/x-python",
   "name": "python",
   "nbconvert_exporter": "python",
   "pygments_lexer": "ipython3",
   "version": "3.6.7"
  },
  "toc-autonumbering": false,
  "toc-showcode": false,
  "toc-showmarkdowntxt": false
 },
 "nbformat": 4,
 "nbformat_minor": 5
}
