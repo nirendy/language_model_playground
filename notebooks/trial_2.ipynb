{
 "cells": [
  {
   "cell_type": "markdown",
   "source": [
    "## Imports"
   ],
   "metadata": {
    "collapsed": false
   }
  },
  {
   "cell_type": "code",
   "execution_count": 3,
   "outputs": [],
   "source": [
    "import torch\n",
    "from transformers import AutoTokenizer, AutoModelForCausalLM\n",
    "import pandas as pd\n",
    "import functools\n",
    "import itertools"
   ],
   "metadata": {
    "collapsed": false,
    "pycharm": {
     "name": "#%%\n"
    }
   }
  },
  {
   "cell_type": "code",
   "execution_count": 4,
   "outputs": [],
   "source": [
    "from src.utils.logits import TokenizerDebugger"
   ],
   "metadata": {
    "collapsed": false,
    "pycharm": {
     "name": "#%%\n"
    }
   }
  },
  {
   "cell_type": "markdown",
   "metadata": {
    "collapsed": true,
    "pycharm": {
     "name": "#%% md\n"
    }
   },
   "source": [
    "## Consts"
   ]
  },
  {
   "cell_type": "code",
   "execution_count": 5,
   "outputs": [],
   "source": [
    "model_name = \"distilgpt2\"\n",
    "tokenizer_name = model_name\n",
    "init_sentence = \"\"\"Q: What is the name of the president of the United States and when was he born?\n",
    "A:\"\"\"\n",
    "\n",
    "generation_inputs = {\n",
    "    \"max_length\": 50,\n",
    "    \"num_beams\": 5,\n",
    "    \"early_stopping\": True,\n",
    "    \"no_repeat_ngram_size\": 2,\n",
    "    \"num_return_sequences\": 3\n",
    "}"
   ],
   "metadata": {
    "collapsed": false,
    "pycharm": {
     "name": "#%%\n"
    }
   }
  },
  {
   "cell_type": "code",
   "execution_count": 6,
   "outputs": [],
   "source": [
    "tokenizer = AutoTokenizer.from_pretrained(tokenizer_name)\n",
    "model = AutoModelForCausalLM.from_pretrained(model_name, pad_token_id=tokenizer.eos_token_id)"
   ],
   "metadata": {
    "collapsed": false,
    "pycharm": {
     "name": "#%%\n"
    }
   }
  },
  {
   "cell_type": "code",
   "execution_count": 23,
   "outputs": [],
   "source": [
    "tokenizer_debugger = TokenizerDebugger(tokenizer)\n",
    "input_ids = tokenizer.encode(init_sentence, return_tensors='pt')"
   ],
   "metadata": {
    "collapsed": false,
    "pycharm": {
     "name": "#%%\n"
    }
   }
  },
  {
   "cell_type": "code",
   "execution_count": 21,
   "outputs": [],
   "source": [
    "model_outputs = model.generate(\n",
    "    input_ids,\n",
    "    **generation_inputs,\n",
    "    # output_attentions=True\n",
    ")\n",
    "selected_output = model_outputs[0]\n",
    "generated_model = model(selected_output, output_attentions=True)"
   ],
   "metadata": {
    "collapsed": false,
    "pycharm": {
     "name": "#%%\n"
    }
   }
  },
  {
   "cell_type": "code",
   "execution_count": 25,
   "outputs": [
    {
     "data": {
      "text/plain": "                    0                  1                2                  3  \\\n0                   Q                                                          \n1            : (0.00)         The (0.03)         . (0.02)           A (0.01)   \n2         What (0.01)             (0.08)       The (0.06)           A (0.02)   \n3           is (0.13)          is (0.13)       are (0.10)          do (0.09)   \n4          the (0.33)         the (0.33)      your (0.08)          it (0.06)   \n5         name (0.00)  difference (0.03)      best (0.02)     current (0.01)   \n6           of (0.80)          of (0.80)         ? (0.04)         and (0.01)   \n7          the (0.47)         the (0.47)         a (0.12)        your (0.03)   \n8    president (0.00)         new (0.02)   company (0.02)        game (0.01)   \n9           of (0.27)           ? (0.35)        of (0.27)           , (0.04)   \n10         the (0.62)         the (0.62)         a (0.03)      Israel (0.03)   \n11      United (0.87)      United (0.87)         U (0.03)          US (0.01)   \n12      States (0.99)      States (0.99)   Nations (0.01)     Kingdom (0.01)   \n13         and (0.02)           ? (0.60)        of (0.10)           , (0.08)   \n14        when (0.00)        what (0.31)       how (0.17)         the (0.15)   \n15         was (0.03)          is (0.24)      does (0.17)         did (0.13)   \n16          he (0.24)         the (0.33)        he (0.24)          it (0.10)   \n17        born (0.06)     elected (0.23)     first (0.18)       named (0.07)   \n18           ? (0.81)           ? (0.81)        in (0.06)           , (0.02)   \n19             (0.51)             (0.51)      What (0.02)             (0.02)   \n20           A (0.00)             (0.97)         A (0.00)         The (0.00)   \n21           : (0.71)           : (0.71)         . (0.08)          .: (0.01)   \n22          He (0.21)          He (0.21)         I (0.10)         The (0.09)   \n23         was (0.61)         was (0.61)        is (0.16)          's (0.04)   \n24        born (0.91)        born (0.91)         a (0.02)         the (0.01)   \n25          in (0.67)          in (0.67)        on (0.11)          to (0.02)   \n26  Washington (0.03)         the (0.10)       New (0.07)  Washington (0.03)   \n27           , (0.64)           , (0.64)         . (0.10)          DC (0.05)   \n28           D (0.51)           D (0.51)        DC (0.37)         and (0.02)   \n29           . (1.00)           . (1.00)         , (0.00)          ., (0.00)   \n30           C (1.00)           C (1.00)         S (0.00)           C (0.00)   \n31          ., (0.56)          ., (0.56)         . (0.39)          .; (0.02)   \n32         and (0.29)         and (0.29)        in (0.13)          on (0.11)   \n33         his (0.08)         was (0.20)        he (0.13)          is (0.08)   \n34      father (0.38)      father (0.38)    mother (0.17)     parents (0.11)   \n35         was (0.52)         was (0.52)         , (0.21)          is (0.08)   \n36           a (0.32)           a (0.32)      born (0.18)          an (0.08)   \n37    military (0.04)      lawyer (0.04)  military (0.04)        Navy (0.03)   \n38     officer (0.41)     officer (0.41)    doctor (0.06)     veteran (0.05)   \n39           . (0.40)           . (0.40)         , (0.15)          in (0.13)   \n40         His (0.10)          He (0.38)           (0.10)         His (0.10)   \n41      mother (0.22)      father (0.52)    mother (0.22)     parents (0.04)   \n42         was (0.40)         was (0.40)         , (0.23)          is (0.04)   \n43          an (0.12)           a (0.59)        an (0.12)        born (0.04)   \n44        Army (0.33)        Army (0.33)  American (0.05)         Air (0.05)   \n45     officer (0.24)     officer (0.24)   colonel (0.15)     veteran (0.07)   \n46           , (0.16)           . (0.43)       and (0.20)           , (0.16)   \n47         and (0.52)         and (0.52)         a (0.09)         who (0.05)   \n48          he (0.14)         his (0.36)        he (0.14)         her (0.07)   \n49         was (0.42)         was (0.42)       had (0.07)      worked (0.03)   \n\n                     4                    5                 6  \\\n0                                                               \n1               (0.01)             A (0.01)        The (0.01)   \n2             I (0.02)          What (0.01)        How (0.01)   \n3             � (0.06)            's (0.06)       does (0.03)   \n4             a (0.04)          this (0.02)       that (0.01)   \n5        future (0.01)          most (0.01)     reason (0.01)   \n6             \" (0.01)             , (0.01)        for (0.01)   \n7            an (0.02)          this (0.02)        one (0.01)   \n8         first (0.01)         group (0.01)          \" (0.01)   \n9           and (0.04)            's (0.04)        who (0.03)   \n10       Canada (0.02)          Iran (0.02)     Russia (0.01)   \n11      country (0.00)           USA (0.00)      state (0.00)   \n12         Arab (0.00)         State (0.00)          S (0.00)   \n13          and (0.02)            ?\" (0.01)         in (0.01)   \n14          who (0.05)           why (0.04)        his (0.04)   \n15         will (0.06)            do (0.05)          ? (0.04)   \n16          his (0.06)          that (0.04)       this (0.03)   \n17         born (0.06)     appointed (0.04)        the (0.03)   \n18          and (0.02)            ?\" (0.02)          ? (0.01)   \n19            � (0.02)             I (0.01)            (0.01)   \n20            I (0.00)             : (0.00)          J (0.00)   \n21           UG (0.01)           UST (0.00)         UB (0.00)   \n22           It (0.05)          Well (0.04)         We (0.03)   \n23          has (0.02)          came (0.01)        had (0.01)   \n24           an (0.01)       elected (0.00)  president (0.00)   \n25           at (0.02)          here (0.01)          , (0.01)   \n26           18 (0.02)  Philadelphia (0.02)    Chicago (0.02)   \n27            D (0.04)           and (0.03)         on (0.03)   \n28   Washington (0.01)           but (0.01)         in (0.01)   \n29              (0.00)            .. (0.00)          . (0.00)   \n30            W (0.00)             D (0.00)          A (0.00)   \n31           .. (0.01)            .: (0.00)         .— (0.00)   \n32          but (0.06)            to (0.03)       from (0.02)   \n33          his (0.08)           has (0.03)        the (0.03)   \n34         wife (0.06)        family (0.06)      first (0.02)   \n35         died (0.01)          came (0.01)        and (0.01)   \n36          the (0.05)     President (0.03)     George (0.02)   \n37      senator (0.02)        farmer (0.02)  physician (0.02)   \n38      colonel (0.04)      engineer (0.03)    general (0.02)   \n39          and (0.08)            at (0.04)       from (0.04)   \n40          The (0.05)            In (0.03)          I (0.02)   \n41  grandfather (0.04)         first (0.02)     family (0.02)   \n42          and (0.03)           had (0.02)       died (0.02)   \n43          the (0.03)            in (0.01)       from (0.01)   \n44     engineer (0.04)          army (0.04)   attorney (0.03)   \n45   lieutenant (0.06)      sergeant (0.04)     doctor (0.04)   \n46           in (0.04)           who (0.04)       from (0.02)   \n47          but (0.04)            he (0.02)         an (0.02)   \n48          the (0.06)           she (0.05)        was (0.04)   \n49       served (0.03)         lived (0.02)  graduated (0.02)   \n\n                    7                    8                     9  \n0                                                                 \n1            I (0.01)             , (0.01)              S (0.01)  \n2            � (0.01)             \" (0.01)             We (0.01)  \n3          was (0.02)           the (0.02)        happens (0.02)  \n4           an (0.01)           his (0.01)          going (0.00)  \n5      purpose (0.01)           new (0.01)         impact (0.01)  \n6         that (0.01)           you (0.01)              ' (0.00)  \n7         that (0.01)           our (0.01)             my (0.00)  \n8         team (0.01)       project (0.01)   organization (0.01)  \n9           in (0.02)          that (0.02)              � (0.02)  \n10      United (0.01)         Saudi (0.01)        America (0.01)  \n11       world (0.00)            UK (0.00)       Republic (0.00)  \n12      Nation (0.00)      Republic (0.00)           Auto (0.00)  \n13           . (0.01)          that (0.01)            who (0.01)  \n14         its (0.03)             a (0.02)          where (0.02)  \n15         are (0.04)            he (0.03)            was (0.03)  \n16   President (0.03)         there (0.01)           last (0.01)  \n17           ? (0.03)         inaug (0.01)         chosen (0.01)  \n18           . (0.01)            on (0.00)             or (0.00)  \n19         The (0.01)             ( (0.01)            And (0.01)  \n20           ( (0.00)             R (0.00)              M (0.00)  \n21          AP (0.00)            ld (0.00)            few (0.00)  \n22          In (0.02)          When (0.02)            His (0.02)  \n23     started (0.01)        became (0.01)          first (0.01)  \n24      raised (0.00)         first (0.00)             in (0.00)  \n25         and (0.01)          into (0.01)              a (0.00)  \n26           a (0.01)  Pennsylvania (0.01)  Massachusetts (0.01)  \n27          in (0.02)         State (0.01)          state (0.01)  \n28    Virginia (0.00)      Maryland (0.00)            the (0.00)  \n29          .- (0.00)             - (0.00)              : (0.00)  \n30           Y (0.00)             E (0.00)              I (0.00)  \n31           , (0.00)            .' (0.00)             .- (0.00)  \n32         the (0.02)         where (0.02)             at (0.02)  \n33        grew (0.02)          came (0.02)         raised (0.02)  \n34       birth (0.02)   grandfather (0.02)           name (0.01)  \n35         had (0.01)        served (0.01)          lived (0.01)  \n36   president (0.02)            in (0.01)           from (0.01)  \n37  Republican (0.02)        doctor (0.02)          naval (0.02)  \n38  lieutenant (0.02)  intelligence (0.02)        surgeon (0.01)  \n39         who (0.03)            of (0.02)           with (0.01)  \n40        When (0.02)            It (0.01)             So (0.01)  \n41     brother (0.01)         uncle (0.01)            son (0.01)  \n42      worked (0.02)            's (0.01)          lived (0.01)  \n43        also (0.01)          Army (0.00)        married (0.00)  \n44     officer (0.03)       English (0.02)     accountant (0.02)  \n45     captain (0.02)       soldier (0.02)         reserv (0.02)  \n46          at (0.01)             ; (0.01)              ( (0.01)  \n47         his (0.02)            so (0.01)            the (0.01)  \n48           a (0.02)          they (0.01)          their (0.01)  \n49          is (0.02)          grew (0.02)       attended (0.02)  ",
      "text/html": "<div>\n<style scoped>\n    .dataframe tbody tr th:only-of-type {\n        vertical-align: middle;\n    }\n\n    .dataframe tbody tr th {\n        vertical-align: top;\n    }\n\n    .dataframe thead th {\n        text-align: right;\n    }\n</style>\n<table border=\"1\" class=\"dataframe\">\n  <thead>\n    <tr style=\"text-align: right;\">\n      <th></th>\n      <th>0</th>\n      <th>1</th>\n      <th>2</th>\n      <th>3</th>\n      <th>4</th>\n      <th>5</th>\n      <th>6</th>\n      <th>7</th>\n      <th>8</th>\n      <th>9</th>\n    </tr>\n  </thead>\n  <tbody>\n    <tr>\n      <th>0</th>\n      <td>Q</td>\n      <td></td>\n      <td></td>\n      <td></td>\n      <td></td>\n      <td></td>\n      <td></td>\n      <td></td>\n      <td></td>\n      <td></td>\n    </tr>\n    <tr>\n      <th>1</th>\n      <td>: (0.00)</td>\n      <td>The (0.03)</td>\n      <td>. (0.02)</td>\n      <td>A (0.01)</td>\n      <td>(0.01)</td>\n      <td>A (0.01)</td>\n      <td>The (0.01)</td>\n      <td>I (0.01)</td>\n      <td>, (0.01)</td>\n      <td>S (0.01)</td>\n    </tr>\n    <tr>\n      <th>2</th>\n      <td>What (0.01)</td>\n      <td>(0.08)</td>\n      <td>The (0.06)</td>\n      <td>A (0.02)</td>\n      <td>I (0.02)</td>\n      <td>What (0.01)</td>\n      <td>How (0.01)</td>\n      <td>� (0.01)</td>\n      <td>\" (0.01)</td>\n      <td>We (0.01)</td>\n    </tr>\n    <tr>\n      <th>3</th>\n      <td>is (0.13)</td>\n      <td>is (0.13)</td>\n      <td>are (0.10)</td>\n      <td>do (0.09)</td>\n      <td>� (0.06)</td>\n      <td>'s (0.06)</td>\n      <td>does (0.03)</td>\n      <td>was (0.02)</td>\n      <td>the (0.02)</td>\n      <td>happens (0.02)</td>\n    </tr>\n    <tr>\n      <th>4</th>\n      <td>the (0.33)</td>\n      <td>the (0.33)</td>\n      <td>your (0.08)</td>\n      <td>it (0.06)</td>\n      <td>a (0.04)</td>\n      <td>this (0.02)</td>\n      <td>that (0.01)</td>\n      <td>an (0.01)</td>\n      <td>his (0.01)</td>\n      <td>going (0.00)</td>\n    </tr>\n    <tr>\n      <th>5</th>\n      <td>name (0.00)</td>\n      <td>difference (0.03)</td>\n      <td>best (0.02)</td>\n      <td>current (0.01)</td>\n      <td>future (0.01)</td>\n      <td>most (0.01)</td>\n      <td>reason (0.01)</td>\n      <td>purpose (0.01)</td>\n      <td>new (0.01)</td>\n      <td>impact (0.01)</td>\n    </tr>\n    <tr>\n      <th>6</th>\n      <td>of (0.80)</td>\n      <td>of (0.80)</td>\n      <td>? (0.04)</td>\n      <td>and (0.01)</td>\n      <td>\" (0.01)</td>\n      <td>, (0.01)</td>\n      <td>for (0.01)</td>\n      <td>that (0.01)</td>\n      <td>you (0.01)</td>\n      <td>' (0.00)</td>\n    </tr>\n    <tr>\n      <th>7</th>\n      <td>the (0.47)</td>\n      <td>the (0.47)</td>\n      <td>a (0.12)</td>\n      <td>your (0.03)</td>\n      <td>an (0.02)</td>\n      <td>this (0.02)</td>\n      <td>one (0.01)</td>\n      <td>that (0.01)</td>\n      <td>our (0.01)</td>\n      <td>my (0.00)</td>\n    </tr>\n    <tr>\n      <th>8</th>\n      <td>president (0.00)</td>\n      <td>new (0.02)</td>\n      <td>company (0.02)</td>\n      <td>game (0.01)</td>\n      <td>first (0.01)</td>\n      <td>group (0.01)</td>\n      <td>\" (0.01)</td>\n      <td>team (0.01)</td>\n      <td>project (0.01)</td>\n      <td>organization (0.01)</td>\n    </tr>\n    <tr>\n      <th>9</th>\n      <td>of (0.27)</td>\n      <td>? (0.35)</td>\n      <td>of (0.27)</td>\n      <td>, (0.04)</td>\n      <td>and (0.04)</td>\n      <td>'s (0.04)</td>\n      <td>who (0.03)</td>\n      <td>in (0.02)</td>\n      <td>that (0.02)</td>\n      <td>� (0.02)</td>\n    </tr>\n    <tr>\n      <th>10</th>\n      <td>the (0.62)</td>\n      <td>the (0.62)</td>\n      <td>a (0.03)</td>\n      <td>Israel (0.03)</td>\n      <td>Canada (0.02)</td>\n      <td>Iran (0.02)</td>\n      <td>Russia (0.01)</td>\n      <td>United (0.01)</td>\n      <td>Saudi (0.01)</td>\n      <td>America (0.01)</td>\n    </tr>\n    <tr>\n      <th>11</th>\n      <td>United (0.87)</td>\n      <td>United (0.87)</td>\n      <td>U (0.03)</td>\n      <td>US (0.01)</td>\n      <td>country (0.00)</td>\n      <td>USA (0.00)</td>\n      <td>state (0.00)</td>\n      <td>world (0.00)</td>\n      <td>UK (0.00)</td>\n      <td>Republic (0.00)</td>\n    </tr>\n    <tr>\n      <th>12</th>\n      <td>States (0.99)</td>\n      <td>States (0.99)</td>\n      <td>Nations (0.01)</td>\n      <td>Kingdom (0.01)</td>\n      <td>Arab (0.00)</td>\n      <td>State (0.00)</td>\n      <td>S (0.00)</td>\n      <td>Nation (0.00)</td>\n      <td>Republic (0.00)</td>\n      <td>Auto (0.00)</td>\n    </tr>\n    <tr>\n      <th>13</th>\n      <td>and (0.02)</td>\n      <td>? (0.60)</td>\n      <td>of (0.10)</td>\n      <td>, (0.08)</td>\n      <td>and (0.02)</td>\n      <td>?\" (0.01)</td>\n      <td>in (0.01)</td>\n      <td>. (0.01)</td>\n      <td>that (0.01)</td>\n      <td>who (0.01)</td>\n    </tr>\n    <tr>\n      <th>14</th>\n      <td>when (0.00)</td>\n      <td>what (0.31)</td>\n      <td>how (0.17)</td>\n      <td>the (0.15)</td>\n      <td>who (0.05)</td>\n      <td>why (0.04)</td>\n      <td>his (0.04)</td>\n      <td>its (0.03)</td>\n      <td>a (0.02)</td>\n      <td>where (0.02)</td>\n    </tr>\n    <tr>\n      <th>15</th>\n      <td>was (0.03)</td>\n      <td>is (0.24)</td>\n      <td>does (0.17)</td>\n      <td>did (0.13)</td>\n      <td>will (0.06)</td>\n      <td>do (0.05)</td>\n      <td>? (0.04)</td>\n      <td>are (0.04)</td>\n      <td>he (0.03)</td>\n      <td>was (0.03)</td>\n    </tr>\n    <tr>\n      <th>16</th>\n      <td>he (0.24)</td>\n      <td>the (0.33)</td>\n      <td>he (0.24)</td>\n      <td>it (0.10)</td>\n      <td>his (0.06)</td>\n      <td>that (0.04)</td>\n      <td>this (0.03)</td>\n      <td>President (0.03)</td>\n      <td>there (0.01)</td>\n      <td>last (0.01)</td>\n    </tr>\n    <tr>\n      <th>17</th>\n      <td>born (0.06)</td>\n      <td>elected (0.23)</td>\n      <td>first (0.18)</td>\n      <td>named (0.07)</td>\n      <td>born (0.06)</td>\n      <td>appointed (0.04)</td>\n      <td>the (0.03)</td>\n      <td>? (0.03)</td>\n      <td>inaug (0.01)</td>\n      <td>chosen (0.01)</td>\n    </tr>\n    <tr>\n      <th>18</th>\n      <td>? (0.81)</td>\n      <td>? (0.81)</td>\n      <td>in (0.06)</td>\n      <td>, (0.02)</td>\n      <td>and (0.02)</td>\n      <td>?\" (0.02)</td>\n      <td>? (0.01)</td>\n      <td>. (0.01)</td>\n      <td>on (0.00)</td>\n      <td>or (0.00)</td>\n    </tr>\n    <tr>\n      <th>19</th>\n      <td>(0.51)</td>\n      <td>(0.51)</td>\n      <td>What (0.02)</td>\n      <td>(0.02)</td>\n      <td>� (0.02)</td>\n      <td>I (0.01)</td>\n      <td>(0.01)</td>\n      <td>The (0.01)</td>\n      <td>( (0.01)</td>\n      <td>And (0.01)</td>\n    </tr>\n    <tr>\n      <th>20</th>\n      <td>A (0.00)</td>\n      <td>(0.97)</td>\n      <td>A (0.00)</td>\n      <td>The (0.00)</td>\n      <td>I (0.00)</td>\n      <td>: (0.00)</td>\n      <td>J (0.00)</td>\n      <td>( (0.00)</td>\n      <td>R (0.00)</td>\n      <td>M (0.00)</td>\n    </tr>\n    <tr>\n      <th>21</th>\n      <td>: (0.71)</td>\n      <td>: (0.71)</td>\n      <td>. (0.08)</td>\n      <td>.: (0.01)</td>\n      <td>UG (0.01)</td>\n      <td>UST (0.00)</td>\n      <td>UB (0.00)</td>\n      <td>AP (0.00)</td>\n      <td>ld (0.00)</td>\n      <td>few (0.00)</td>\n    </tr>\n    <tr>\n      <th>22</th>\n      <td>He (0.21)</td>\n      <td>He (0.21)</td>\n      <td>I (0.10)</td>\n      <td>The (0.09)</td>\n      <td>It (0.05)</td>\n      <td>Well (0.04)</td>\n      <td>We (0.03)</td>\n      <td>In (0.02)</td>\n      <td>When (0.02)</td>\n      <td>His (0.02)</td>\n    </tr>\n    <tr>\n      <th>23</th>\n      <td>was (0.61)</td>\n      <td>was (0.61)</td>\n      <td>is (0.16)</td>\n      <td>'s (0.04)</td>\n      <td>has (0.02)</td>\n      <td>came (0.01)</td>\n      <td>had (0.01)</td>\n      <td>started (0.01)</td>\n      <td>became (0.01)</td>\n      <td>first (0.01)</td>\n    </tr>\n    <tr>\n      <th>24</th>\n      <td>born (0.91)</td>\n      <td>born (0.91)</td>\n      <td>a (0.02)</td>\n      <td>the (0.01)</td>\n      <td>an (0.01)</td>\n      <td>elected (0.00)</td>\n      <td>president (0.00)</td>\n      <td>raised (0.00)</td>\n      <td>first (0.00)</td>\n      <td>in (0.00)</td>\n    </tr>\n    <tr>\n      <th>25</th>\n      <td>in (0.67)</td>\n      <td>in (0.67)</td>\n      <td>on (0.11)</td>\n      <td>to (0.02)</td>\n      <td>at (0.02)</td>\n      <td>here (0.01)</td>\n      <td>, (0.01)</td>\n      <td>and (0.01)</td>\n      <td>into (0.01)</td>\n      <td>a (0.00)</td>\n    </tr>\n    <tr>\n      <th>26</th>\n      <td>Washington (0.03)</td>\n      <td>the (0.10)</td>\n      <td>New (0.07)</td>\n      <td>Washington (0.03)</td>\n      <td>18 (0.02)</td>\n      <td>Philadelphia (0.02)</td>\n      <td>Chicago (0.02)</td>\n      <td>a (0.01)</td>\n      <td>Pennsylvania (0.01)</td>\n      <td>Massachusetts (0.01)</td>\n    </tr>\n    <tr>\n      <th>27</th>\n      <td>, (0.64)</td>\n      <td>, (0.64)</td>\n      <td>. (0.10)</td>\n      <td>DC (0.05)</td>\n      <td>D (0.04)</td>\n      <td>and (0.03)</td>\n      <td>on (0.03)</td>\n      <td>in (0.02)</td>\n      <td>State (0.01)</td>\n      <td>state (0.01)</td>\n    </tr>\n    <tr>\n      <th>28</th>\n      <td>D (0.51)</td>\n      <td>D (0.51)</td>\n      <td>DC (0.37)</td>\n      <td>and (0.02)</td>\n      <td>Washington (0.01)</td>\n      <td>but (0.01)</td>\n      <td>in (0.01)</td>\n      <td>Virginia (0.00)</td>\n      <td>Maryland (0.00)</td>\n      <td>the (0.00)</td>\n    </tr>\n    <tr>\n      <th>29</th>\n      <td>. (1.00)</td>\n      <td>. (1.00)</td>\n      <td>, (0.00)</td>\n      <td>., (0.00)</td>\n      <td>(0.00)</td>\n      <td>.. (0.00)</td>\n      <td>. (0.00)</td>\n      <td>.- (0.00)</td>\n      <td>- (0.00)</td>\n      <td>: (0.00)</td>\n    </tr>\n    <tr>\n      <th>30</th>\n      <td>C (1.00)</td>\n      <td>C (1.00)</td>\n      <td>S (0.00)</td>\n      <td>C (0.00)</td>\n      <td>W (0.00)</td>\n      <td>D (0.00)</td>\n      <td>A (0.00)</td>\n      <td>Y (0.00)</td>\n      <td>E (0.00)</td>\n      <td>I (0.00)</td>\n    </tr>\n    <tr>\n      <th>31</th>\n      <td>., (0.56)</td>\n      <td>., (0.56)</td>\n      <td>. (0.39)</td>\n      <td>.; (0.02)</td>\n      <td>.. (0.01)</td>\n      <td>.: (0.00)</td>\n      <td>.— (0.00)</td>\n      <td>, (0.00)</td>\n      <td>.' (0.00)</td>\n      <td>.- (0.00)</td>\n    </tr>\n    <tr>\n      <th>32</th>\n      <td>and (0.29)</td>\n      <td>and (0.29)</td>\n      <td>in (0.13)</td>\n      <td>on (0.11)</td>\n      <td>but (0.06)</td>\n      <td>to (0.03)</td>\n      <td>from (0.02)</td>\n      <td>the (0.02)</td>\n      <td>where (0.02)</td>\n      <td>at (0.02)</td>\n    </tr>\n    <tr>\n      <th>33</th>\n      <td>his (0.08)</td>\n      <td>was (0.20)</td>\n      <td>he (0.13)</td>\n      <td>is (0.08)</td>\n      <td>his (0.08)</td>\n      <td>has (0.03)</td>\n      <td>the (0.03)</td>\n      <td>grew (0.02)</td>\n      <td>came (0.02)</td>\n      <td>raised (0.02)</td>\n    </tr>\n    <tr>\n      <th>34</th>\n      <td>father (0.38)</td>\n      <td>father (0.38)</td>\n      <td>mother (0.17)</td>\n      <td>parents (0.11)</td>\n      <td>wife (0.06)</td>\n      <td>family (0.06)</td>\n      <td>first (0.02)</td>\n      <td>birth (0.02)</td>\n      <td>grandfather (0.02)</td>\n      <td>name (0.01)</td>\n    </tr>\n    <tr>\n      <th>35</th>\n      <td>was (0.52)</td>\n      <td>was (0.52)</td>\n      <td>, (0.21)</td>\n      <td>is (0.08)</td>\n      <td>died (0.01)</td>\n      <td>came (0.01)</td>\n      <td>and (0.01)</td>\n      <td>had (0.01)</td>\n      <td>served (0.01)</td>\n      <td>lived (0.01)</td>\n    </tr>\n    <tr>\n      <th>36</th>\n      <td>a (0.32)</td>\n      <td>a (0.32)</td>\n      <td>born (0.18)</td>\n      <td>an (0.08)</td>\n      <td>the (0.05)</td>\n      <td>President (0.03)</td>\n      <td>George (0.02)</td>\n      <td>president (0.02)</td>\n      <td>in (0.01)</td>\n      <td>from (0.01)</td>\n    </tr>\n    <tr>\n      <th>37</th>\n      <td>military (0.04)</td>\n      <td>lawyer (0.04)</td>\n      <td>military (0.04)</td>\n      <td>Navy (0.03)</td>\n      <td>senator (0.02)</td>\n      <td>farmer (0.02)</td>\n      <td>physician (0.02)</td>\n      <td>Republican (0.02)</td>\n      <td>doctor (0.02)</td>\n      <td>naval (0.02)</td>\n    </tr>\n    <tr>\n      <th>38</th>\n      <td>officer (0.41)</td>\n      <td>officer (0.41)</td>\n      <td>doctor (0.06)</td>\n      <td>veteran (0.05)</td>\n      <td>colonel (0.04)</td>\n      <td>engineer (0.03)</td>\n      <td>general (0.02)</td>\n      <td>lieutenant (0.02)</td>\n      <td>intelligence (0.02)</td>\n      <td>surgeon (0.01)</td>\n    </tr>\n    <tr>\n      <th>39</th>\n      <td>. (0.40)</td>\n      <td>. (0.40)</td>\n      <td>, (0.15)</td>\n      <td>in (0.13)</td>\n      <td>and (0.08)</td>\n      <td>at (0.04)</td>\n      <td>from (0.04)</td>\n      <td>who (0.03)</td>\n      <td>of (0.02)</td>\n      <td>with (0.01)</td>\n    </tr>\n    <tr>\n      <th>40</th>\n      <td>His (0.10)</td>\n      <td>He (0.38)</td>\n      <td>(0.10)</td>\n      <td>His (0.10)</td>\n      <td>The (0.05)</td>\n      <td>In (0.03)</td>\n      <td>I (0.02)</td>\n      <td>When (0.02)</td>\n      <td>It (0.01)</td>\n      <td>So (0.01)</td>\n    </tr>\n    <tr>\n      <th>41</th>\n      <td>mother (0.22)</td>\n      <td>father (0.52)</td>\n      <td>mother (0.22)</td>\n      <td>parents (0.04)</td>\n      <td>grandfather (0.04)</td>\n      <td>first (0.02)</td>\n      <td>family (0.02)</td>\n      <td>brother (0.01)</td>\n      <td>uncle (0.01)</td>\n      <td>son (0.01)</td>\n    </tr>\n    <tr>\n      <th>42</th>\n      <td>was (0.40)</td>\n      <td>was (0.40)</td>\n      <td>, (0.23)</td>\n      <td>is (0.04)</td>\n      <td>and (0.03)</td>\n      <td>had (0.02)</td>\n      <td>died (0.02)</td>\n      <td>worked (0.02)</td>\n      <td>'s (0.01)</td>\n      <td>lived (0.01)</td>\n    </tr>\n    <tr>\n      <th>43</th>\n      <td>an (0.12)</td>\n      <td>a (0.59)</td>\n      <td>an (0.12)</td>\n      <td>born (0.04)</td>\n      <td>the (0.03)</td>\n      <td>in (0.01)</td>\n      <td>from (0.01)</td>\n      <td>also (0.01)</td>\n      <td>Army (0.00)</td>\n      <td>married (0.00)</td>\n    </tr>\n    <tr>\n      <th>44</th>\n      <td>Army (0.33)</td>\n      <td>Army (0.33)</td>\n      <td>American (0.05)</td>\n      <td>Air (0.05)</td>\n      <td>engineer (0.04)</td>\n      <td>army (0.04)</td>\n      <td>attorney (0.03)</td>\n      <td>officer (0.03)</td>\n      <td>English (0.02)</td>\n      <td>accountant (0.02)</td>\n    </tr>\n    <tr>\n      <th>45</th>\n      <td>officer (0.24)</td>\n      <td>officer (0.24)</td>\n      <td>colonel (0.15)</td>\n      <td>veteran (0.07)</td>\n      <td>lieutenant (0.06)</td>\n      <td>sergeant (0.04)</td>\n      <td>doctor (0.04)</td>\n      <td>captain (0.02)</td>\n      <td>soldier (0.02)</td>\n      <td>reserv (0.02)</td>\n    </tr>\n    <tr>\n      <th>46</th>\n      <td>, (0.16)</td>\n      <td>. (0.43)</td>\n      <td>and (0.20)</td>\n      <td>, (0.16)</td>\n      <td>in (0.04)</td>\n      <td>who (0.04)</td>\n      <td>from (0.02)</td>\n      <td>at (0.01)</td>\n      <td>; (0.01)</td>\n      <td>( (0.01)</td>\n    </tr>\n    <tr>\n      <th>47</th>\n      <td>and (0.52)</td>\n      <td>and (0.52)</td>\n      <td>a (0.09)</td>\n      <td>who (0.05)</td>\n      <td>but (0.04)</td>\n      <td>he (0.02)</td>\n      <td>an (0.02)</td>\n      <td>his (0.02)</td>\n      <td>so (0.01)</td>\n      <td>the (0.01)</td>\n    </tr>\n    <tr>\n      <th>48</th>\n      <td>he (0.14)</td>\n      <td>his (0.36)</td>\n      <td>he (0.14)</td>\n      <td>her (0.07)</td>\n      <td>the (0.06)</td>\n      <td>she (0.05)</td>\n      <td>was (0.04)</td>\n      <td>a (0.02)</td>\n      <td>they (0.01)</td>\n      <td>their (0.01)</td>\n    </tr>\n    <tr>\n      <th>49</th>\n      <td>was (0.42)</td>\n      <td>was (0.42)</td>\n      <td>had (0.07)</td>\n      <td>worked (0.03)</td>\n      <td>served (0.03)</td>\n      <td>lived (0.02)</td>\n      <td>graduated (0.02)</td>\n      <td>is (0.02)</td>\n      <td>grew (0.02)</td>\n      <td>attended (0.02)</td>\n    </tr>\n  </tbody>\n</table>\n</div>"
     },
     "execution_count": 25,
     "metadata": {},
     "output_type": "execute_result"
    }
   ],
   "source": [
    "res = tokenizer_debugger.get_sequence_logit_top_n_tokens(selected_output, generated_model.logits, 9)\n",
    "pd.DataFrame(res).fillna('')"
   ],
   "metadata": {
    "collapsed": false,
    "pycharm": {
     "name": "#%%\n"
    }
   }
  },
  {
   "cell_type": "code",
   "execution_count": 19,
   "outputs": [],
   "source": [],
   "metadata": {
    "collapsed": false,
    "pycharm": {
     "name": "#%%\n"
    }
   }
  },
  {
   "cell_type": "code",
   "execution_count": null,
   "outputs": [],
   "source": [],
   "metadata": {
    "collapsed": false,
    "pycharm": {
     "name": "#%%\n"
    }
   }
  },
  {
   "cell_type": "code",
   "execution_count": null,
   "outputs": [],
   "source": [],
   "metadata": {
    "collapsed": false,
    "pycharm": {
     "name": "#%%\n"
    }
   }
  }
 ],
 "metadata": {
  "kernelspec": {
   "display_name": "Python 3",
   "language": "python",
   "name": "python3"
  },
  "language_info": {
   "codemirror_mode": {
    "name": "ipython",
    "version": 2
   },
   "file_extension": ".py",
   "mimetype": "text/x-python",
   "name": "python",
   "nbconvert_exporter": "python",
   "pygments_lexer": "ipython2",
   "version": "2.7.6"
  }
 },
 "nbformat": 4,
 "nbformat_minor": 0
}